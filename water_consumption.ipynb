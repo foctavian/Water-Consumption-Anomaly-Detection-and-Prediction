{
 "cells": [
  {
   "cell_type": "code",
   "execution_count": 1,
   "id": "02f0fd31-26c2-4d65-b3a5-b812c434aec9",
   "metadata": {},
   "outputs": [],
   "source": [
    "import numpy as np\n",
    "import pandas as pd\n",
    "from IPython.display import HTML, display\n",
    "from statsmodels.tsa.arima.model import ARIMA\n",
    "from pmdarima import auto_arima\n",
    "from statsmodels.tsa.seasonal import STL\n"
   ]
  },
  {
   "cell_type": "code",
   "execution_count": 2,
   "id": "bf1f906a-c65f-4f95-8665-998b699230dc",
   "metadata": {},
   "outputs": [],
   "source": [
    "read_dataset = pd.read_csv(\"data/swm_trialA_1K.csv\", sep=\";\")\n",
    "\n",
    "# reverse dataset because datetimes are reversed\n",
    "data = read_dataset.iloc[::-1, ::-1]\n",
    "sampled_user = data.sample(1).iloc[0][\"user key\"]\n",
    "\n"
   ]
  },
  {
   "cell_type": "code",
   "execution_count": 3,
   "id": "d02b9e7b-4b57-4104-a8bb-f9cfcaa64467",
   "metadata": {},
   "outputs": [],
   "source": [
    "sampled_user_data = data[:][data[\"user key\"] == sampled_user]\n",
    "sampled_user_data['datetime'] = pd.to_datetime(sampled_user_data['datetime'] , format=\"%d/%m/%Y %H:%M:%S\")\n",
    "\n",
    "sampled_user_data.drop(\"user key\", axis=1, inplace=True)"
   ]
  },
  {
   "cell_type": "code",
   "execution_count": 4,
   "id": "e1b6d58c-8c77-4966-91a8-0945951925f7",
   "metadata": {},
   "outputs": [],
   "source": [
    "fixed_data = pd.DataFrame(sampled_user_data)\n",
    "\n",
    "start = fixed_data['datetime'].min()\n",
    "end = fixed_data['datetime'].max()\n",
    "fixed_data.drop_duplicates(subset=['datetime'], keep='first', inplace=True)\n",
    "\n",
    "all_dates = pd.date_range(start=start, end=end, freq='1h')\n",
    "all_dates_df = pd.DataFrame({'datetime': all_dates})\n",
    "all_dates_df.set_index('datetime', inplace=True)\n",
    "fixed_data.set_index('datetime', inplace=True)\n",
    "combined_df = all_dates_df.reindex(fixed_data.index.union(all_dates_df.index))\n",
    "\n",
    "combined_df = combined_df.join(fixed_data, how='left')\n",
    "combined_df['predicted'] = np.where(combined_df['meter reading'].notna(), 'no', 'yes')\n"
   ]
  },
  {
   "cell_type": "code",
   "execution_count": 5,
   "id": "74569cf0-5be2-4648-b7fc-fb62cd105018",
   "metadata": {},
   "outputs": [],
   "source": [
    "# round to nearest minute and get rid of duplicated timestamps\n",
    "\n",
    "combined_df.index = combined_df.index.round('h')\n",
    "\n",
    "combined_df = combined_df[~combined_df.index.duplicated(keep='first')]"
   ]
  },
  {
   "cell_type": "code",
   "execution_count": 6,
   "id": "bec26135-20b3-47dc-a460-926adb45c93a",
   "metadata": {},
   "outputs": [
    {
     "name": "stdout",
     "output_type": "stream",
     "text": [
      "Performing stepwise search to minimize aic\n",
      " ARIMA(2,2,2)(0,0,0)[0]             : AIC=910.430, Time=2.34 sec\n",
      " ARIMA(0,2,0)(0,0,0)[0]             : AIC=927.177, Time=0.01 sec\n",
      " ARIMA(1,2,0)(0,0,0)[0]             : AIC=920.534, Time=0.01 sec\n",
      " ARIMA(0,2,1)(0,0,0)[0]             : AIC=inf, Time=0.23 sec\n",
      " ARIMA(1,2,2)(0,0,0)[0]             : AIC=911.592, Time=0.11 sec\n",
      " ARIMA(2,2,1)(0,0,0)[0]             : AIC=906.480, Time=0.13 sec\n",
      " ARIMA(1,2,1)(0,0,0)[0]             : AIC=inf, Time=0.05 sec\n",
      " ARIMA(2,2,0)(0,0,0)[0]             : AIC=917.867, Time=0.02 sec\n",
      " ARIMA(3,2,1)(0,0,0)[0]             : AIC=891.792, Time=0.23 sec\n",
      " ARIMA(3,2,0)(0,0,0)[0]             : AIC=902.213, Time=0.04 sec\n",
      " ARIMA(4,2,1)(0,0,0)[0]             : AIC=inf, Time=0.31 sec\n",
      " ARIMA(3,2,2)(0,0,0)[0]             : AIC=901.295, Time=0.11 sec\n",
      " ARIMA(4,2,0)(0,0,0)[0]             : AIC=903.196, Time=0.06 sec\n",
      " ARIMA(4,2,2)(0,0,0)[0]             : AIC=903.241, Time=0.42 sec\n",
      " ARIMA(3,2,1)(0,0,0)[0] intercept   : AIC=906.314, Time=0.06 sec\n",
      "\n",
      "Best model:  ARIMA(3,2,1)(0,0,0)[0]          \n",
      "Total fit time: 4.148 seconds\n"
     ]
    }
   ],
   "source": [
    "model_auto = auto_arima(combined_df['meter reading'].dropna(),seasonal=True,\n",
    "                         stepwise=True, trace=True)\n",
    "p, d, q = model_auto.order"
   ]
  },
  {
   "cell_type": "code",
   "execution_count": 7,
   "id": "0f74e448-c9cd-4841-8183-66d9638c16ad",
   "metadata": {},
   "outputs": [
    {
     "name": "stderr",
     "output_type": "stream",
     "text": [
      "C:\\Users\\Octavian Floare\\AppData\\Local\\Programs\\Python\\Python39\\lib\\site-packages\\statsmodels\\tsa\\base\\tsa_model.py:473: ValueWarning: No frequency information was provided, so inferred frequency h will be used.\n",
      "  self._init_dates(dates, freq)\n",
      "C:\\Users\\Octavian Floare\\AppData\\Local\\Programs\\Python\\Python39\\lib\\site-packages\\statsmodels\\tsa\\base\\tsa_model.py:473: ValueWarning: No frequency information was provided, so inferred frequency h will be used.\n",
      "  self._init_dates(dates, freq)\n",
      "C:\\Users\\Octavian Floare\\AppData\\Local\\Programs\\Python\\Python39\\lib\\site-packages\\statsmodels\\tsa\\base\\tsa_model.py:473: ValueWarning: No frequency information was provided, so inferred frequency h will be used.\n",
      "  self._init_dates(dates, freq)\n"
     ]
    },
    {
     "name": "stdout",
     "output_type": "stream",
     "text": [
      "2015-09-22 00:00:00         0.000000\n",
      "2015-09-22 01:00:00     84045.091387\n",
      "2015-09-22 02:00:00     56066.600541\n",
      "2015-09-22 03:00:00     56047.191520\n",
      "2015-09-22 04:00:00     56072.913003\n",
      "                           ...      \n",
      "2017-05-19 20:00:00    228680.782765\n",
      "2017-05-19 21:00:00    228691.776964\n",
      "2017-05-19 22:00:00    228702.771162\n",
      "2017-05-19 23:00:00    228713.765360\n",
      "2017-05-20 00:00:00    228724.759558\n",
      "Freq: h, Name: predicted_mean, Length: 14545, dtype: float64\n"
     ]
    }
   ],
   "source": [
    "model = ARIMA(combined_df['meter reading'], order=(p, d, q))  \n",
    "model_fit = model.fit()\n",
    "\n",
    "forecast = model_fit.predict(start=combined_df.index.min(), end=combined_df.index.max())\n",
    "print(forecast)\n",
    "combined_df['meter reading'] = combined_df['meter reading'].fillna(forecast)\n",
    "combined_df['meter reading'] = combined_df['meter reading'].astype(int)\n",
    "\n",
    "combined_df['diff'] = combined_df['meter reading'].diff()\n"
   ]
  },
  {
   "cell_type": "code",
   "execution_count": 8,
   "id": "89a15ab3-7816-483a-a699-32082da54d5e",
   "metadata": {},
   "outputs": [],
   "source": [
    "# when i generate a value with arima and then i have a reading i usually get a negative diff so i have to just repeat the reading\n",
    "for i in range(1, len(combined_df.index)):\n",
    "    # if i find a negative diff\n",
    "    if combined_df.loc[combined_df.index[i], 'diff'] < 0:\n",
    "        # look for the previous meter reading\n",
    "        prev_v = combined_df.iloc[i-1]['meter reading']\n",
    "        combined_df.at[combined_df.index[i], 'meter reading'] = prev_v\n",
    "\n",
    "# recompute the diff column\n",
    "combined_df['diff'] = combined_df['meter reading'].diff()\n",
    "\n"
   ]
  },
  {
   "cell_type": "code",
   "execution_count": 9,
   "id": "e26d5900-375f-4090-86d8-36cf76132387",
   "metadata": {},
   "outputs": [],
   "source": [
    "combined_df.index = pd.to_datetime(combined_df.index, errors='coerce')"
   ]
  },
  {
   "cell_type": "code",
   "execution_count": 10,
   "id": "c7cdf8ad-576c-495f-a32d-b6e8c4fdbd48",
   "metadata": {},
   "outputs": [],
   "source": [
    "conditions = [\n",
    "    (combined_df.index.hour >= 5) & (combined_df.index.hour < 12),  # Morning: 5 AM - 11:59 AM\n",
    "    (combined_df.index.hour >= 12) & (combined_df.index.hour < 17), # Afternoon: 12 PM - 4:59 PM\n",
    "    (combined_df.index.hour >= 17) & (combined_df.index.hour < 21), # Evening: 5 PM - 8:59 PM\n",
    "    (combined_df.index.hour >= 21) | (combined_df.index.hour< 5)   # Night: 9 PM - 4:59 AM\n",
    "]\n",
    "\n",
    "time_of_day = ['Morning', 'Afternoon', 'Evening', 'Night']\n",
    "\n",
    "combined_df['time of day'] = np.select(conditions, time_of_day, default=np.nan)\n"
   ]
  },
  {
   "cell_type": "code",
   "execution_count": 11,
   "id": "73ef9a0a-4d37-4640-b342-196a3b564412",
   "metadata": {},
   "outputs": [],
   "source": [
    "predicted = (combined_df[\"predicted\"] == 'yes')"
   ]
  },
  {
   "cell_type": "code",
   "execution_count": 12,
   "id": "5210f8cd-fbdd-449a-911a-de9a130ca86d",
   "metadata": {},
   "outputs": [
    {
     "ename": "NameError",
     "evalue": "name 'plt' is not defined",
     "output_type": "error",
     "traceback": [
      "\u001b[1;31m---------------------------------------------------------------------------\u001b[0m",
      "\u001b[1;31mNameError\u001b[0m                                 Traceback (most recent call last)",
      "Cell \u001b[1;32mIn[12], line 9\u001b[0m\n\u001b[0;32m      6\u001b[0m seasonal \u001b[38;5;241m=\u001b[39m result\u001b[38;5;241m.\u001b[39mseasonal\n\u001b[0;32m      7\u001b[0m residual \u001b[38;5;241m=\u001b[39m result\u001b[38;5;241m.\u001b[39mresid\n\u001b[1;32m----> 9\u001b[0m \u001b[43mplt\u001b[49m\u001b[38;5;241m.\u001b[39mfigure(figsize\u001b[38;5;241m=\u001b[39m(\u001b[38;5;241m10\u001b[39m, \u001b[38;5;241m8\u001b[39m)) \n\u001b[0;32m     10\u001b[0m plt\u001b[38;5;241m.\u001b[39msubplot(\u001b[38;5;241m4\u001b[39m, \u001b[38;5;241m1\u001b[39m, \u001b[38;5;241m1\u001b[39m)\n\u001b[0;32m     11\u001b[0m plt\u001b[38;5;241m.\u001b[39mplot(combined_df\u001b[38;5;241m.\u001b[39mindex, combined_df[\u001b[38;5;124m'\u001b[39m\u001b[38;5;124mmeter reading\u001b[39m\u001b[38;5;124m'\u001b[39m], label\u001b[38;5;241m=\u001b[39m\u001b[38;5;124m'\u001b[39m\u001b[38;5;124mOriginal\u001b[39m\u001b[38;5;124m'\u001b[39m)\n",
      "\u001b[1;31mNameError\u001b[0m: name 'plt' is not defined"
     ]
    }
   ],
   "source": [
    "stl = STL(combined_df['meter reading'], seasonal=25) \n",
    "\n",
    "result = stl.fit()\n",
    "\n",
    "trend = result.trend\n",
    "seasonal = result.seasonal\n",
    "residual = result.resid\n",
    "\n",
    "plt.figure(figsize=(10, 8)) \n",
    "plt.subplot(4, 1, 1)\n",
    "plt.plot(combined_df.index, combined_df['meter reading'], label='Original')\n",
    "plt.legend(loc='upper left')\n",
    "plt.title('Original Series')\n",
    "\n",
    "plt.subplot(4, 1, 2)\n",
    "plt.plot(combined_df.index, trend, label='Trend', color='orange')\n",
    "plt.legend(loc='upper left')\n",
    "plt.title('Trend Component')\n",
    "\n",
    "plt.subplot(4, 1, 3)\n",
    "plt.plot(combined_df.index, seasonal, label='Seasonal', color='green')\n",
    "plt.legend(loc='upper left')\n",
    "plt.title('Seasonal Component')\n",
    "\n",
    "plt.subplot(4, 1, 4)\n",
    "plt.plot(combined_df.index, residual, label='Residual', color='red')\n",
    "plt.legend(loc='upper left')\n",
    "plt.title('Residual Component')\n",
    "\n",
    "plt.tight_layout()\n",
    "plt.show()"
   ]
  },
  {
   "cell_type": "code",
   "execution_count": null,
   "id": "a94a6285-b216-4a8a-8957-e09aab447f4c",
   "metadata": {},
   "outputs": [],
   "source": [
    "residual_mean = residual.mean()\n",
    "residual_std = residual.std()\n",
    "threshold = 3 * residual_std\n",
    "anomalies = combined_df[abs(residual) > threshold]\n",
    "print(\"Anomalies Detected:\")\n",
    "print(anomalies)\n",
    "plt.figure(figsize=(12, 6))\n",
    "plt.plot(combined_df.index, combined_df['meter reading'], label='Original Data')\n",
    "plt.scatter(anomalies.index, anomalies['meter reading'], color='red', label='Anomalies')\n",
    "plt.legend(loc='upper left')\n",
    "plt.title('Detected Anomalies')\n",
    "plt.show()"
   ]
  },
  {
   "cell_type": "code",
   "execution_count": null,
   "id": "4b3d8d2c-6b42-4cb3-9a76-e3444e859cb9",
   "metadata": {},
   "outputs": [],
   "source": [
    "#display(HTML(combined_df.to_html()))"
   ]
  },
  {
   "cell_type": "code",
   "execution_count": null,
   "id": "16f2df78-3902-42d9-8e37-066d7a1b4df7",
   "metadata": {},
   "outputs": [],
   "source": [
    "df = combined_df.copy().drop(columns = ['predicted', 'time of day'])\n",
    "\n",
    "hourly_consumption = df.resample('h').sum()\n",
    "hourly_pattern = hourly_consumption.groupby(hourly_consumption.index.hour).mean()\n",
    "daily_pattern = df.groupby(df.index.dayofweek).mean()\n",
    "monthly_pattern = df.groupby(df.index.month).mean()\n"
   ]
  },
  {
   "cell_type": "code",
   "execution_count": null,
   "id": "057c1bf0-f268-41a7-80ba-f7dc28cbb7c9",
   "metadata": {},
   "outputs": [],
   "source": [
    "plt.figure(figsize=(12, 6))\n",
    "plt.plot(hourly_pattern.index, hourly_pattern['diff'], marker='o')\n",
    "plt.xlabel('Hour of the Day')\n",
    "plt.ylabel('Average Consumption')\n",
    "plt.title('Average Water Consumption by Hour of the Day')\n",
    "plt.grid(True)\n",
    "plt.xticks(range(0, 24))\n",
    "plt.show()\n"
   ]
  },
  {
   "cell_type": "code",
   "execution_count": null,
   "id": "cdcde819-28be-4311-b84f-bc2d9dcd9dcd",
   "metadata": {},
   "outputs": [],
   "source": [
    "days_of_week = ['Monday', 'Tuesday', 'Wednesday', 'Thursday', 'Friday', 'Saturday', 'Sunday']\n",
    "\n",
    "plt.figure(figsize=(12, 6))\n",
    "plt.bar(days_of_week, daily_pattern['diff'])\n",
    "plt.xlabel('Day of the Week')\n",
    "plt.ylabel('Average Consumption')\n",
    "plt.title('Average Water Consumption by Day of the Week')\n",
    "plt.show()\n"
   ]
  },
  {
   "cell_type": "code",
   "execution_count": null,
   "id": "7de805bf-9f19-4525-8f2d-2114413d3851",
   "metadata": {},
   "outputs": [],
   "source": [
    "months = ['Jan', 'Feb', 'Mar', 'Apr', 'May', 'Jun', 'Jul', 'Aug', 'Sep', 'Oct', 'Nov', 'Dec']\n",
    "\n",
    "plt.figure(figsize=(12, 6))\n",
    "plt.bar(months, monthly_pattern['diff'])\n",
    "plt.xlabel('Month')\n",
    "plt.ylabel('Average Consumption')\n",
    "plt.title('Average Water Consumption by Month')\n",
    "plt.show()\n"
   ]
  },
  {
   "cell_type": "code",
   "execution_count": null,
   "id": "b61782e6-de82-4732-906d-50589a751653",
   "metadata": {},
   "outputs": [],
   "source": [
    "# Resample to daily data\n",
    "daily_consumption = combined_df.resample('D').sum()\n",
    "\n",
    "# Identify peak days\n",
    "peak_days = daily_consumption.nlargest(10, 'diff')\n",
    "\n",
    "\n",
    "plt.figure(figsize=(12, 6))\n",
    "plt.plot(daily_consumption.index, daily_consumption['diff'], label='Daily Consumption')\n",
    "plt.scatter(peak_days.index, peak_days['diff'], color='red', label='Peak Days')\n",
    "plt.xlabel('Date')\n",
    "plt.ylabel('Total Daily Consumption')\n",
    "plt.title('Daily Water Consumption with Peak Days Highlighted')\n",
    "plt.legend()\n",
    "plt.show()\n"
   ]
  }
 ],
 "metadata": {
  "kernelspec": {
   "display_name": "Python 3 (ipykernel)",
   "language": "python",
   "name": "python3"
  },
  "language_info": {
   "codemirror_mode": {
    "name": "ipython",
    "version": 3
   },
   "file_extension": ".py",
   "mimetype": "text/x-python",
   "name": "python",
   "nbconvert_exporter": "python",
   "pygments_lexer": "ipython3",
   "version": "3.9.7"
  }
 },
 "nbformat": 4,
 "nbformat_minor": 5
}
